{
  "nbformat": 4,
  "nbformat_minor": 0,
  "metadata": {
    "colab": {
      "provenance": [],
      "authorship_tag": "ABX9TyMYNZrg0u/Dnz9n6mth0+Tr",
      "include_colab_link": true
    },
    "kernelspec": {
      "name": "python3",
      "display_name": "Python 3"
    },
    "language_info": {
      "name": "python"
    }
  },
  "cells": [
    {
      "cell_type": "markdown",
      "metadata": {
        "id": "view-in-github",
        "colab_type": "text"
      },
      "source": [
        "<a href=\"https://colab.research.google.com/github/smallrus-web/AZSII_prz3/blob/main/%D0%90%D1%80%D1%85%D0%B8%D0%BF%D0%BE%D0%B2_%D0%94%D0%BC%D0%B8%D1%82%D1%80%D0%B8%D0%B9_prz3_ipynb%22%22.ipynb\" target=\"_parent\"><img src=\"https://colab.research.google.com/assets/colab-badge.svg\" alt=\"Open In Colab\"/></a>"
      ]
    },
    {
      "cell_type": "markdown",
      "source": [
        "Группа: ББМО-01-23\n",
        "\n",
        "Студент: Архипов Дмитрий Евгеньевич\n",
        "\n",
        "Практика 3: Атака Carlini-Wagner (CW) на модели\n",
        "ИИ\n",
        "\n",
        "\n"
      ],
      "metadata": {
        "id": "acQh6RK6n3GT"
      }
    },
    {
      "cell_type": "markdown",
      "source": [
        "**1. Загрузка обученной модели и данных MNIST**\n"
      ],
      "metadata": {
        "id": "1T4ga3LxQOh6"
      }
    },
    {
      "cell_type": "code",
      "source": [
        "import tensorflow as tf\n",
        "from tensorflow.keras.datasets import mnist\n",
        "from tensorflow.keras.utils import to_categorical\n",
        "\n",
        "# Загрузка тестовых данных MNIST\n",
        "(_, _), (test_images, test_labels) = mnist.load_data()\n",
        "\n",
        "# Нормализация данных\n",
        "test_images = test_images / 255.0\n",
        "\n",
        "# Преобразование меток в формат one-hot encoding\n",
        "test_labels = to_categorical(test_labels, num_classes=10)\n",
        "\n",
        "# Загрузка обученной модели\n",
        "model = tf.keras.models.load_model('mnist_model.h5')\n",
        "\n",
        "# Проверка точности модели на обычных данных\n",
        "test_loss, test_acc = model.evaluate(test_images, test_labels)\n",
        "print(f'Test accuracy on clean images: {test_acc}')"
      ],
      "metadata": {
        "colab": {
          "base_uri": "https://localhost:8080/"
        },
        "id": "SbrlFSuOD3lU",
        "outputId": "cd419f91-005d-46f5-fc03-0397f82f0823"
      },
      "execution_count": 2,
      "outputs": [
        {
          "output_type": "stream",
          "name": "stderr",
          "text": [
            "WARNING:absl:Compiled the loaded model, but the compiled metrics have yet to be built. `model.compile_metrics` will be empty until you train or evaluate the model.\n"
          ]
        },
        {
          "output_type": "stream",
          "name": "stdout",
          "text": [
            "\u001b[1m313/313\u001b[0m \u001b[32m━━━━━━━━━━━━━━━━━━━━\u001b[0m\u001b[37m\u001b[0m \u001b[1m2s\u001b[0m 4ms/step - accuracy: 0.9733 - loss: 0.0970\n",
            "Test accuracy on clean images: 0.9768000245094299\n"
          ]
        }
      ]
    },
    {
      "cell_type": "markdown",
      "source": [
        "**2. Установка Foolbox и запуск CW-атаки**"
      ],
      "metadata": {
        "id": "5_siK3NrQRQA"
      }
    },
    {
      "cell_type": "code",
      "source": [
        "pip install foolbox"
      ],
      "metadata": {
        "colab": {
          "base_uri": "https://localhost:8080/"
        },
        "id": "jNHRep19ERrg",
        "outputId": "2cdac019-618b-4a9f-8e5b-0843392eeff3"
      },
      "execution_count": 3,
      "outputs": [
        {
          "output_type": "stream",
          "name": "stdout",
          "text": [
            "Collecting foolbox\n",
            "  Downloading foolbox-3.3.4-py3-none-any.whl.metadata (7.3 kB)\n",
            "Requirement already satisfied: numpy in /usr/local/lib/python3.11/dist-packages (from foolbox) (1.26.4)\n",
            "Requirement already satisfied: scipy in /usr/local/lib/python3.11/dist-packages (from foolbox) (1.13.1)\n",
            "Requirement already satisfied: setuptools in /usr/local/lib/python3.11/dist-packages (from foolbox) (75.1.0)\n",
            "Collecting eagerpy>=0.30.0 (from foolbox)\n",
            "  Downloading eagerpy-0.30.0-py3-none-any.whl.metadata (5.5 kB)\n",
            "Requirement already satisfied: GitPython>=3.0.7 in /usr/local/lib/python3.11/dist-packages (from foolbox) (3.1.44)\n",
            "Requirement already satisfied: typing-extensions>=3.7.4.1 in /usr/local/lib/python3.11/dist-packages (from foolbox) (4.12.2)\n",
            "Requirement already satisfied: requests>=2.24.0 in /usr/local/lib/python3.11/dist-packages (from foolbox) (2.32.3)\n",
            "Requirement already satisfied: gitdb<5,>=4.0.1 in /usr/local/lib/python3.11/dist-packages (from GitPython>=3.0.7->foolbox) (4.0.12)\n",
            "Requirement already satisfied: charset-normalizer<4,>=2 in /usr/local/lib/python3.11/dist-packages (from requests>=2.24.0->foolbox) (3.4.1)\n",
            "Requirement already satisfied: idna<4,>=2.5 in /usr/local/lib/python3.11/dist-packages (from requests>=2.24.0->foolbox) (3.10)\n",
            "Requirement already satisfied: urllib3<3,>=1.21.1 in /usr/local/lib/python3.11/dist-packages (from requests>=2.24.0->foolbox) (2.3.0)\n",
            "Requirement already satisfied: certifi>=2017.4.17 in /usr/local/lib/python3.11/dist-packages (from requests>=2.24.0->foolbox) (2024.12.14)\n",
            "Requirement already satisfied: smmap<6,>=3.0.1 in /usr/local/lib/python3.11/dist-packages (from gitdb<5,>=4.0.1->GitPython>=3.0.7->foolbox) (5.0.2)\n",
            "Downloading foolbox-3.3.4-py3-none-any.whl (1.7 MB)\n",
            "\u001b[2K   \u001b[90m━━━━━━━━━━━━━━━━━━━━━━━━━━━━━━━━━━━━━━━━\u001b[0m \u001b[32m1.7/1.7 MB\u001b[0m \u001b[31m19.0 MB/s\u001b[0m eta \u001b[36m0:00:00\u001b[0m\n",
            "\u001b[?25hDownloading eagerpy-0.30.0-py3-none-any.whl (31 kB)\n",
            "Installing collected packages: eagerpy, foolbox\n",
            "Successfully installed eagerpy-0.30.0 foolbox-3.3.4\n"
          ]
        }
      ]
    },
    {
      "cell_type": "code",
      "source": [
        "import foolbox as fb\n",
        "import numpy as np\n",
        "import tensorflow as tf\n",
        "import matplotlib.pyplot as plt\n",
        "\n",
        "# Преобразование меток в обычные классы (из one-hot в нормальные метки)\n",
        "test_labels_classes = np.argmax(test_labels, axis=1)\n",
        "\n",
        "# Найти индекс изображения, которое соответствует цифре 9\n",
        "index_of_9 = np.where(test_labels_classes == 9)[0][0]  # Ищем первое вхождение цифры 9\n",
        "\n",
        "# Инициализация Foolbox модели:\n",
        "fmodel = fb.TensorFlowModel(model, bounds=(-1, 1))\n",
        "\n",
        "# Выбор изображения для атаки (например, изображение с цифрой 9):\n",
        "# Добавление размерности для батча:\n",
        "image = tf.convert_to_tensor(test_images[index_of_9], dtype=tf.float32)[None, ...]\n",
        "# Получение индекса класса:\n",
        "label = 9  # Мы знаем, что это цифра 9\n",
        "# Преобразование в тензор:\n",
        "label = tf.convert_to_tensor(label, dtype=tf.int64)\n",
        "\n",
        "# Создание атаки Carlini-Wagner:\n",
        "attack = fb.attacks.L2CarliniWagnerAttack(steps=10)\n",
        "# Выполнение атаки:\n",
        "adversarial_image, _, success = attack(fmodel, image, label[None], epsilons=0.01)\n",
        "\n",
        "# Вывод результатов:\n",
        "plt.figure(figsize=(20, 20))\n",
        "plt.subplot(1, 2, 1)\n",
        "plt.title(\"Оригинальное изображение\")\n",
        "plt.imshow(image[0].numpy(), cmap=\"gray\")\n",
        "plt.axis('off')\n",
        "\n",
        "plt.subplot(1, 2, 2)\n",
        "plt.title(\"Противоречивое изображение (CW Attack)\")\n",
        "plt.imshow(adversarial_image[0].numpy(), cmap=\"gray\")\n",
        "plt.axis('off')\n",
        "\n",
        "plt.show()"
      ],
      "metadata": {
        "colab": {
          "base_uri": "https://localhost:8080/",
          "height": 764
        },
        "id": "dR45YCwJEVTq",
        "outputId": "446c53eb-3a7f-4b6f-e673-fdda38b7098f"
      },
      "execution_count": 20,
      "outputs": [
        {
          "output_type": "display_data",
          "data": {
            "text/plain": [
              "<Figure size 2000x2000 with 2 Axes>"
            ],
            "image/png": "[encoded data removed]"
          },
          "metadata": {}
        }
      ]
    },
    {
      "cell_type": "markdown",
      "source": [
        "**3. Оценка модели на противоречивых примерах**"
      ],
      "metadata": {
        "id": "DKySA4coQWpy"
      }
    },
    {
      "cell_type": "code",
      "source": [
        "# Создание набора противоречивых примеров для всего тестового набора\n",
        "adversarial_images = []\n",
        "for i in range(len(test_images) // 10): # ограничил выборку для ускорения выполнения\n",
        "    image = tf.convert_to_tensor(test_images[i], dtype=tf.float32)[None, ...]\n",
        "    label = np.argmax(test_labels[i])\n",
        "    label = tf.convert_to_tensor(label, dtype=tf.int64)\n",
        "    advs, _, success = attack(fmodel, image, label[None], epsilons=0.1)\n",
        "    adversarial_images.append(advs)\n",
        "\n",
        "# Оценка точности модели на противоречивых примерах\n",
        "adversarial_images = tf.concat(adversarial_images, axis=0)\n",
        "adversarial_loss, adversarial_acc = model.evaluate(adversarial_images, test_labels[:1000])\n",
        "print(f'Accuracy on adversarial examples (CW attack): {adversarial_acc}')"
      ],
      "metadata": {
        "colab": {
          "base_uri": "https://localhost:8080/"
        },
        "id": "gC94y4WaFrCs",
        "outputId": "d6618a3d-af22-4f30-e151-157418bf4d82"
      },
      "execution_count": 24,
      "outputs": [
        {
          "output_type": "stream",
          "name": "stdout",
          "text": [
            "\u001b[1m32/32\u001b[0m \u001b[32m━━━━━━━━━━━━━━━━━━━━\u001b[0m\u001b[37m\u001b[0m \u001b[1m0s\u001b[0m 2ms/step - accuracy: 0.0924 - loss: 2.3513 \n",
            "Accuracy on adversarial examples (CW attack): 0.08399999886751175\n"
          ]
        }
      ]
    },
    {
      "cell_type": "markdown",
      "source": [
        "**4. Вывод**"
      ],
      "metadata": {
        "id": "GxjGWfczQaII"
      }
    },
    {
      "cell_type": "markdown",
      "source": [
        "Точность модели после проведения атаки: 0.084 (8.4%)\n",
        "\n",
        "Это означает, что точность модели на атакованных изображениях значительно снизилась по сравнению с исходной точностью (98%). Точность на атакованных примерах составляет всего 8.4%, что говорит о сильной уязвимости модели к атаке Carlini-Wagner.\n",
        "\n",
        "Потери модели: 2.3513\n",
        "\n",
        "Увеличение значения функции потерь также указывает на существенное ухудшение работы модели. Атака Carlini-Wagner привела к значительному искажениям входных данных, что снизило способность модели правильно классифицировать изображения, несмотря на минимальные изменения в самих изображениях."
      ],
      "metadata": {
        "id": "YYLyZR6RQc5l"
      }
    }
  ]
}